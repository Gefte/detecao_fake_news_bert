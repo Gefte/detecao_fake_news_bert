{
  "cells": [
    {
      "cell_type": "code",
      "execution_count": 1,
      "metadata": {
        "colab": {
          "base_uri": "https://localhost:8080/"
        },
        "id": "SmSNnxp77FvB",
        "outputId": "b8102350-6498-420a-b9d1-a46441ce337f"
      },
      "outputs": [
        {
          "name": "stderr",
          "output_type": "stream",
          "text": [
            "[nltk_data] Downloading package stopwords to\n",
            "[nltk_data]     /home/jeremias/nltk_data...\n",
            "[nltk_data]   Package stopwords is already up-to-date!\n"
          ]
        }
      ],
      "source": [
        "from sklearn.feature_extraction.text import CountVectorizer\n",
        "from sklearn.model_selection import train_test_split\n",
        "from sklearn.naive_bayes import MultinomialNB\n",
        "from sklearn.metrics import confusion_matrix\n",
        "from sklearn.metrics import roc_curve\n",
        "import matplotlib.pyplot as plt\n",
        "from sklearn import metrics\n",
        "import pandas as pd\n",
        "import nltk.corpus\n",
        "import unidecode\n",
        "nltk.download('stopwords')\n",
        "import re"
      ]
    },
    {
      "cell_type": "markdown",
      "metadata": {},
      "source": [
        "Leitura dos dados."
      ]
    },
    {
      "cell_type": "code",
      "execution_count": 2,
      "metadata": {
        "colab": {
          "base_uri": "https://localhost:8080/",
          "height": 194
        },
        "id": "K5An7dQq7o2C",
        "outputId": "c72b9c48-820e-4226-feab-9811a2fb25ea"
      },
      "outputs": [
        {
          "data": {
            "text/html": [
              "<div>\n",
              "<style scoped>\n",
              "    .dataframe tbody tr th:only-of-type {\n",
              "        vertical-align: middle;\n",
              "    }\n",
              "\n",
              "    .dataframe tbody tr th {\n",
              "        vertical-align: top;\n",
              "    }\n",
              "\n",
              "    .dataframe thead th {\n",
              "        text-align: right;\n",
              "    }\n",
              "</style>\n",
              "<table border=\"1\" class=\"dataframe\">\n",
              "  <thead>\n",
              "    <tr style=\"text-align: right;\">\n",
              "      <th></th>\n",
              "      <th>Titulo</th>\n",
              "      <th>Subtitulo</th>\n",
              "      <th>Noticia</th>\n",
              "      <th>Categoria</th>\n",
              "      <th>Data</th>\n",
              "      <th>Autor</th>\n",
              "      <th>URL</th>\n",
              "      <th>Classe</th>\n",
              "    </tr>\n",
              "  </thead>\n",
              "  <tbody>\n",
              "    <tr>\n",
              "      <th>0</th>\n",
              "      <td>\\n\\nArthur Lira fraudou a votação sobre voto i...</td>\n",
              "      <td>Boato – Está comprovado que a votação sobre o ...</td>\n",
              "      <td>bomba lira fraudar o votação brasília explodir...</td>\n",
              "      <td>política</td>\n",
              "      <td>17/08/2021</td>\n",
              "      <td>\\nEdgard Matsuki</td>\n",
              "      <td>https://www.boatos.org/politica/arthur-lira-fr...</td>\n",
              "      <td>0</td>\n",
              "    </tr>\n",
              "    <tr>\n",
              "      <th>1</th>\n",
              "      <td>WhatsApp agora permite silenciar conversas e g...</td>\n",
              "      <td>Opção vinha sendo testada no aplicativo, e foi...</td>\n",
              "      <td>o whatsapp liberar quinta-feira atualização ap...</td>\n",
              "      <td>política</td>\n",
              "      <td>23/10/2020 10h02</td>\n",
              "      <td>Por G1</td>\n",
              "      <td>https://g1.globo.com/economia/tecnologia/notic...</td>\n",
              "      <td>1</td>\n",
              "    </tr>\n",
              "    <tr>\n",
              "      <th>2</th>\n",
              "      <td>Com Lula, Bolsonaro e Ciro, Fortaleza vira mic...</td>\n",
              "      <td>NaN</td>\n",
              "      <td>debater propor o cidade o campanha prefeitura ...</td>\n",
              "      <td>política</td>\n",
              "      <td>27/10/2020 04h00</td>\n",
              "      <td>Carlos Madeiro</td>\n",
              "      <td>https://noticias.uol.com.br/eleicoes/2020/10/2...</td>\n",
              "      <td>1</td>\n",
              "    </tr>\n",
              "    <tr>\n",
              "      <th>3</th>\n",
              "      <td>Alesp aprova projeto que multa em até R$ 100 m...</td>\n",
              "      <td>NaN</td>\n",
              "      <td>o alesp assembleia legislativo paulo aprovar h...</td>\n",
              "      <td>saúde</td>\n",
              "      <td>10/02/2021 23h56</td>\n",
              "      <td>10/02/2021 23h56</td>\n",
              "      <td>https://noticias.uol.com.br/saude/ultimas-noti...</td>\n",
              "      <td>1</td>\n",
              "    </tr>\n",
              "    <tr>\n",
              "      <th>4</th>\n",
              "      <td>\\n  Não é verdade que Fauci sabia há 15 anos q...</td>\n",
              "      <td>Publicações compartilhadas dezenas de vezes de...</td>\n",
              "      <td>“ fauci aprovar o hidroxicloroquina haver ano ...</td>\n",
              "      <td>saúde</td>\n",
              "      <td>11/08/2020 às 20:45</td>\n",
              "      <td>AFP Austrália</td>\n",
              "      <td>https://checamos.afp.com//nao-e-verdade-que-fa...</td>\n",
              "      <td>0</td>\n",
              "    </tr>\n",
              "  </tbody>\n",
              "</table>\n",
              "</div>"
            ],
            "text/plain": [
              "                                              Titulo  \\\n",
              "0  \\n\\nArthur Lira fraudou a votação sobre voto i...   \n",
              "1  WhatsApp agora permite silenciar conversas e g...   \n",
              "2  Com Lula, Bolsonaro e Ciro, Fortaleza vira mic...   \n",
              "3  Alesp aprova projeto que multa em até R$ 100 m...   \n",
              "4  \\n  Não é verdade que Fauci sabia há 15 anos q...   \n",
              "\n",
              "                                           Subtitulo  \\\n",
              "0  Boato – Está comprovado que a votação sobre o ...   \n",
              "1  Opção vinha sendo testada no aplicativo, e foi...   \n",
              "2                                                NaN   \n",
              "3                                                NaN   \n",
              "4  Publicações compartilhadas dezenas de vezes de...   \n",
              "\n",
              "                                             Noticia Categoria  \\\n",
              "0  bomba lira fraudar o votação brasília explodir...  política   \n",
              "1  o whatsapp liberar quinta-feira atualização ap...  política   \n",
              "2  debater propor o cidade o campanha prefeitura ...  política   \n",
              "3  o alesp assembleia legislativo paulo aprovar h...     saúde   \n",
              "4  “ fauci aprovar o hidroxicloroquina haver ano ...     saúde   \n",
              "\n",
              "                  Data              Autor  \\\n",
              "0           17/08/2021  \\nEdgard Matsuki    \n",
              "1    23/10/2020 10h02             Por G1    \n",
              "2    27/10/2020 04h00      Carlos Madeiro   \n",
              "3    10/02/2021 23h56   10/02/2021 23h56    \n",
              "4  11/08/2020 às 20:45      AFP Austrália   \n",
              "\n",
              "                                                 URL  Classe  \n",
              "0  https://www.boatos.org/politica/arthur-lira-fr...       0  \n",
              "1  https://g1.globo.com/economia/tecnologia/notic...       1  \n",
              "2  https://noticias.uol.com.br/eleicoes/2020/10/2...       1  \n",
              "3  https://noticias.uol.com.br/saude/ultimas-noti...       1  \n",
              "4  https://checamos.afp.com//nao-e-verdade-que-fa...       0  "
            ]
          },
          "execution_count": 2,
          "metadata": {},
          "output_type": "execute_result"
        }
      ],
      "source": [
        "df_news = pd.read_excel('data/FakeRecogna_no_removal_words.xlsx')\n",
        "df_news.head()"
      ]
    },
    {
      "cell_type": "markdown",
      "metadata": {},
      "source": [
        "Criando a lista <i>stopwors</i>, das palavras mais comuns em textos, como artigos, pronomes e etc."
      ]
    },
    {
      "cell_type": "code",
      "execution_count": 3,
      "metadata": {
        "id": "ZAQNlQWG82W3"
      },
      "outputs": [],
      "source": [
        "stopwords = nltk.corpus.stopwords.words('portuguese')"
      ]
    },
    {
      "cell_type": "markdown",
      "metadata": {},
      "source": [
        "Definindo a função que vai limpar o texto, tirando tirando as <i>stopwors</i> e as letras isoladas."
      ]
    },
    {
      "cell_type": "code",
      "execution_count": 4,
      "metadata": {
        "id": "mmTj_kU-9ABV"
      },
      "outputs": [],
      "source": [
        "def remove_stop_words(texto,stopwords):\n",
        "    texto_limpo = \" \".join(word for word in texto.split() if word not in stopwords and len(word) > 1)\n",
        "    texto_limpo = unidecode.unidecode(texto_limpo)\n",
        "    return texto_limpo"
      ]
    },
    {
      "cell_type": "markdown",
      "metadata": {},
      "source": [
        "Criando uma nova coluna, com as notícias limpas pela função <i> remove_stop_words </i>."
      ]
    },
    {
      "cell_type": "code",
      "execution_count": 5,
      "metadata": {
        "id": "WHALYw8k9H4m"
      },
      "outputs": [],
      "source": [
        "df_news['noticia_limpa'] = df_news['Noticia'].apply(lambda x: remove_stop_words(x, stopwords))\n",
        "df_news['noticia_limpa'] = df_news['noticia_limpa'].apply(str)\n"
      ]
    },
    {
      "cell_type": "markdown",
      "metadata": {},
      "source": [
        "Criando as <i> Series </i> com as notícias e suas respectivas classes. "
      ]
    },
    {
      "cell_type": "code",
      "execution_count": 6,
      "metadata": {
        "id": "y3l_rtUIfSlD"
      },
      "outputs": [],
      "source": [
        "news = df_news['noticia_limpa']\n",
        "label = df_news['Classe']"
      ]
    },
    {
      "cell_type": "markdown",
      "metadata": {},
      "source": [
        "Separando os dados de treino e teste."
      ]
    },
    {
      "cell_type": "code",
      "execution_count": 7,
      "metadata": {
        "id": "otCo3kxC9QB-"
      },
      "outputs": [],
      "source": [
        "x_train, x_test, y_train, y_test = train_test_split(news,label, test_size=0.2,random_state=42)"
      ]
    },
    {
      "cell_type": "markdown",
      "metadata": {},
      "source": [
        "Transformando esses dados uma matriz de contagens de token."
      ]
    },
    {
      "cell_type": "code",
      "execution_count": 8,
      "metadata": {
        "id": "O_edQnXnmk0X"
      },
      "outputs": [],
      "source": [
        "vectorizer = CountVectorizer()\n",
        "x_train = vectorizer.fit_transform(x_train)\n",
        "x_test = vectorizer.transform(x_test)"
      ]
    },
    {
      "cell_type": "markdown",
      "metadata": {},
      "source": [
        "Criando e treinando o modelo."
      ]
    },
    {
      "cell_type": "code",
      "execution_count": 9,
      "metadata": {
        "id": "BajX5OTCoxqs"
      },
      "outputs": [
        {
          "data": {
            "text/html": [
              "<style>#sk-container-id-1 {color: black;background-color: white;}#sk-container-id-1 pre{padding: 0;}#sk-container-id-1 div.sk-toggleable {background-color: white;}#sk-container-id-1 label.sk-toggleable__label {cursor: pointer;display: block;width: 100%;margin-bottom: 0;padding: 0.3em;box-sizing: border-box;text-align: center;}#sk-container-id-1 label.sk-toggleable__label-arrow:before {content: \"▸\";float: left;margin-right: 0.25em;color: #696969;}#sk-container-id-1 label.sk-toggleable__label-arrow:hover:before {color: black;}#sk-container-id-1 div.sk-estimator:hover label.sk-toggleable__label-arrow:before {color: black;}#sk-container-id-1 div.sk-toggleable__content {max-height: 0;max-width: 0;overflow: hidden;text-align: left;background-color: #f0f8ff;}#sk-container-id-1 div.sk-toggleable__content pre {margin: 0.2em;color: black;border-radius: 0.25em;background-color: #f0f8ff;}#sk-container-id-1 input.sk-toggleable__control:checked~div.sk-toggleable__content {max-height: 200px;max-width: 100%;overflow: auto;}#sk-container-id-1 input.sk-toggleable__control:checked~label.sk-toggleable__label-arrow:before {content: \"▾\";}#sk-container-id-1 div.sk-estimator input.sk-toggleable__control:checked~label.sk-toggleable__label {background-color: #d4ebff;}#sk-container-id-1 div.sk-label input.sk-toggleable__control:checked~label.sk-toggleable__label {background-color: #d4ebff;}#sk-container-id-1 input.sk-hidden--visually {border: 0;clip: rect(1px 1px 1px 1px);clip: rect(1px, 1px, 1px, 1px);height: 1px;margin: -1px;overflow: hidden;padding: 0;position: absolute;width: 1px;}#sk-container-id-1 div.sk-estimator {font-family: monospace;background-color: #f0f8ff;border: 1px dotted black;border-radius: 0.25em;box-sizing: border-box;margin-bottom: 0.5em;}#sk-container-id-1 div.sk-estimator:hover {background-color: #d4ebff;}#sk-container-id-1 div.sk-parallel-item::after {content: \"\";width: 100%;border-bottom: 1px solid gray;flex-grow: 1;}#sk-container-id-1 div.sk-label:hover label.sk-toggleable__label {background-color: #d4ebff;}#sk-container-id-1 div.sk-serial::before {content: \"\";position: absolute;border-left: 1px solid gray;box-sizing: border-box;top: 0;bottom: 0;left: 50%;z-index: 0;}#sk-container-id-1 div.sk-serial {display: flex;flex-direction: column;align-items: center;background-color: white;padding-right: 0.2em;padding-left: 0.2em;position: relative;}#sk-container-id-1 div.sk-item {position: relative;z-index: 1;}#sk-container-id-1 div.sk-parallel {display: flex;align-items: stretch;justify-content: center;background-color: white;position: relative;}#sk-container-id-1 div.sk-item::before, #sk-container-id-1 div.sk-parallel-item::before {content: \"\";position: absolute;border-left: 1px solid gray;box-sizing: border-box;top: 0;bottom: 0;left: 50%;z-index: -1;}#sk-container-id-1 div.sk-parallel-item {display: flex;flex-direction: column;z-index: 1;position: relative;background-color: white;}#sk-container-id-1 div.sk-parallel-item:first-child::after {align-self: flex-end;width: 50%;}#sk-container-id-1 div.sk-parallel-item:last-child::after {align-self: flex-start;width: 50%;}#sk-container-id-1 div.sk-parallel-item:only-child::after {width: 0;}#sk-container-id-1 div.sk-dashed-wrapped {border: 1px dashed gray;margin: 0 0.4em 0.5em 0.4em;box-sizing: border-box;padding-bottom: 0.4em;background-color: white;}#sk-container-id-1 div.sk-label label {font-family: monospace;font-weight: bold;display: inline-block;line-height: 1.2em;}#sk-container-id-1 div.sk-label-container {text-align: center;}#sk-container-id-1 div.sk-container {/* jupyter's `normalize.less` sets `[hidden] { display: none; }` but bootstrap.min.css set `[hidden] { display: none !important; }` so we also need the `!important` here to be able to override the default hidden behavior on the sphinx rendered scikit-learn.org. See: https://github.com/scikit-learn/scikit-learn/issues/21755 */display: inline-block !important;position: relative;}#sk-container-id-1 div.sk-text-repr-fallback {display: none;}</style><div id=\"sk-container-id-1\" class=\"sk-top-container\"><div class=\"sk-text-repr-fallback\"><pre>MultinomialNB()</pre><b>In a Jupyter environment, please rerun this cell to show the HTML representation or trust the notebook. <br />On GitHub, the HTML representation is unable to render, please try loading this page with nbviewer.org.</b></div><div class=\"sk-container\" hidden><div class=\"sk-item\"><div class=\"sk-estimator sk-toggleable\"><input class=\"sk-toggleable__control sk-hidden--visually\" id=\"sk-estimator-id-1\" type=\"checkbox\" checked><label for=\"sk-estimator-id-1\" class=\"sk-toggleable__label sk-toggleable__label-arrow\">MultinomialNB</label><div class=\"sk-toggleable__content\"><pre>MultinomialNB()</pre></div></div></div></div></div>"
            ],
            "text/plain": [
              "MultinomialNB()"
            ]
          },
          "execution_count": 9,
          "metadata": {},
          "output_type": "execute_result"
        }
      ],
      "source": [
        "model = MultinomialNB()\n",
        "model.fit(x_train, y_train)"
      ]
    },
    {
      "cell_type": "markdown",
      "metadata": {},
      "source": [
        "Medindo a acurácia do modelo aplicado nos dados de teste."
      ]
    },
    {
      "cell_type": "code",
      "execution_count": 10,
      "metadata": {
        "colab": {
          "base_uri": "https://localhost:8080/"
        },
        "id": "6JAUX2V-u3T2",
        "outputId": "0fe9a90c-51be-482a-b0ea-b6c1e831a6cc"
      },
      "outputs": [
        {
          "name": "stdout",
          "output_type": "stream",
          "text": [
            "Ácaruácia do teste: 0.92\n"
          ]
        }
      ],
      "source": [
        "print(f'Ácaruácia do teste: {round(model.score(x_test, y_test),2)}')"
      ]
    },
    {
      "cell_type": "markdown",
      "metadata": {},
      "source": [
        "Definindo a função que vai plotar o gráfico da curva ROC."
      ]
    },
    {
      "cell_type": "code",
      "execution_count": 11,
      "metadata": {
        "id": "ZWJGUntZwaC7"
      },
      "outputs": [],
      "source": [
        "def plot_roc_curve(fper, tper):\n",
        "    plt.figure(figsize=(15,10))\n",
        "    plt.plot(fper, tper, color='red', label='ROC')\n",
        "    plt.plot([0, 1], [0, 1], color='green', linestyle='--')\n",
        "    plt.xlabel('False Positive Rate')\n",
        "    plt.ylabel('True Positive Rate')\n",
        "    plt.title('Receiver Operating Characteristic Curve')\n",
        "    plt.legend()\n",
        "    plt.show()"
      ]
    },
    {
      "cell_type": "markdown",
      "metadata": {},
      "source": [
        "Plotando o gráfico da curva ROC."
      ]
    },
    {
      "cell_type": "code",
      "execution_count": 12,
      "metadata": {
        "colab": {
          "base_uri": "https://localhost:8080/",
          "height": 621
        },
        "id": "ShIdlKCtzU0F",
        "outputId": "c554f6fe-e716-4ac4-df3a-a17a5f409193"
      },
      "outputs": [
        {
          "data": {
            "image/png": "[encoded data removed]",
            "text/plain": [
              "<Figure size 1500x1000 with 1 Axes>"
            ]
          },
          "metadata": {},
          "output_type": "display_data"
        }
      ],
      "source": [
        "prob = model.predict_proba(x_test)\n",
        "prob = prob[:, 1]\n",
        "fper, tper, thresholds = roc_curve(y_test, prob)\n",
        "plot_roc_curve(fper, tper)"
      ]
    },
    {
      "cell_type": "markdown",
      "metadata": {},
      "source": [
        "Criando uma tabela com as principais métricas da classificação."
      ]
    },
    {
      "cell_type": "code",
      "execution_count": 13,
      "metadata": {
        "id": "at3anIDxEqgF"
      },
      "outputs": [
        {
          "name": "stdout",
          "output_type": "stream",
          "text": [
            "              precision    recall  f1-score   support\n",
            "\n",
            "           1       0.93      0.90      0.92      1173\n",
            "           0       0.91      0.93      0.92      1208\n",
            "\n",
            "    accuracy                           0.92      2381\n",
            "   macro avg       0.92      0.92      0.92      2381\n",
            "weighted avg       0.92      0.92      0.92      2381\n",
            "\n"
          ]
        }
      ],
      "source": [
        "predicted = model.predict(x_test)\n",
        "print(metrics.classification_report(y_test,predicted,target_names=['1','0']))"
      ]
    },
    {
      "cell_type": "markdown",
      "metadata": {},
      "source": [
        "Criando a matriz de confusão."
      ]
    },
    {
      "cell_type": "code",
      "execution_count": 14,
      "metadata": {
        "colab": {
          "base_uri": "https://localhost:8080/",
          "height": 274
        },
        "id": "yvQgM76zD9MJ",
        "outputId": "62106175-27ae-42d0-ac2f-94b10e19c535"
      },
      "outputs": [
        {
          "data": {
            "text/plain": [
              "<Figure size 1000x1000 with 0 Axes>"
            ]
          },
          "metadata": {},
          "output_type": "display_data"
        },
        {
          "data": {
            "image/png": "[encoded data removed]",
            "text/plain": [
              "<Figure size 480x480 with 2 Axes>"
            ]
          },
          "metadata": {},
          "output_type": "display_data"
        }
      ],
      "source": [
        "confusion = confusion_matrix(y_true=y_test,y_pred=predicted)\n",
        "plt.figure(figsize=(10,10))\n",
        "plt.matshow(confusion)\n",
        "plt.title(\"Matriz de confusão\")\n",
        "plt.colorbar()\n",
        "plt.ylabel(\"Classificações corretas\")\n",
        "plt.xlabel(\"Classificações obtidas\")\n",
        "plt.show()"
      ]
    }
  ],
  "metadata": {
    "colab": {
      "provenance": []
    },
    "kernelspec": {
      "display_name": "Python 3.10.6 64-bit",
      "language": "python",
      "name": "python3"
    },
    "language_info": {
      "codemirror_mode": {
        "name": "ipython",
        "version": 3
      },
      "file_extension": ".py",
      "mimetype": "text/x-python",
      "name": "python",
      "nbconvert_exporter": "python",
      "pygments_lexer": "ipython3",
      "version": "3.10.6"
    },
    "vscode": {
      "interpreter": {
        "hash": "916dbcbb3f70747c44a77c7bcd40155683ae19c65e1c03b4aa3499c5328201f1"
      }
    }
  },
  "nbformat": 4,
  "nbformat_minor": 0
}
